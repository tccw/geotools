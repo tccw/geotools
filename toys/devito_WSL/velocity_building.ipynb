{
 "cells": [
  {
   "cell_type": "code",
   "execution_count": 1,
   "metadata": {},
   "outputs": [],
   "source": [
    "import numpy as np\n",
    "import matplotlib.pyplot as plt\n",
    "%matplotlib inline"
   ]
  },
  {
   "cell_type": "code",
   "execution_count": 45,
   "metadata": {},
   "outputs": [],
   "source": [
    "def create_circular_mask(h, w, center=None, radius=None):\n",
    "\n",
    "    if center is None: # use the middle of the image\n",
    "        center = [int(w/2), int(h/2)]\n",
    "    if radius is None: # use the smallest distance between the center and image walls\n",
    "        radius = min(center[0], center[1], w-center[0], h-center[1])\n",
    "\n",
    "    Y, X = np.ogrid[:h, :w]\n",
    "    dist_from_center = np.sqrt((X - center[0])**2 + (Y-center[1])**2)\n",
    "\n",
    "    mask = dist_from_center >= radius\n",
    "    return mask"
   ]
  },
  {
   "cell_type": "code",
   "execution_count": 49,
   "metadata": {},
   "outputs": [],
   "source": [
    "mask_1 = create_circular_mask(arr.shape[0], arr.shape[1], center=[250,325], radius=200)\n",
    "mask_2 = create_circular_mask(arr.shape[0], arr.shape[1], center=[250,325], radius=180)\n",
    "# arr_masked = arr*mask_1\n",
    "# arr_masked = arr_masked * mask_2"
   ]
  },
  {
   "cell_type": "code",
   "execution_count": 204,
   "metadata": {},
   "outputs": [
    {
     "data": {
      "image/png": "[encoded data removed]",
      "text/plain": [
       "<Figure size 432x288 with 2 Axes>"
      ]
     },
     "metadata": {
      "needs_background": "light"
     },
     "output_type": "display_data"
    }
   ],
   "source": [
    "arr = np.ones((200,500))\n",
    "\n",
    "mask_1 = create_circular_mask(arr.shape[0], arr.shape[1], center=[250,325], radius=230)\n",
    "mask_2 = create_circular_mask(arr.shape[0], arr.shape[1], center=[250,325], radius=180)\n",
    "mask_1 = np.where(mask_1 == True, mask_1, 3)\n",
    "mask_2 = np.where(mask_2 == True, mask_2, 3)\n",
    "\n",
    "plt.imshow(mask_1 + mask_2)\n",
    "plt.colorbar()\n",
    "\n",
    "anticline_vp = mask_1 + mask_2\n",
    "\n",
    "# np.save('/data/anticline_vp_no_faults.npy', anticline_vp)"
   ]
  },
  {
   "cell_type": "code",
   "execution_count": 205,
   "metadata": {},
   "outputs": [],
   "source": [
    "copy = np.roll(anticline_vp,4,axis=0)\n",
    "copy2 = np.roll(anticline_vp,20,axis=0)\n",
    "copy3 = np.roll(anticline_vp, 3, axis=0)"
   ]
  },
  {
   "cell_type": "code",
   "execution_count": 206,
   "metadata": {},
   "outputs": [
    {
     "data": {
      "text/plain": [
       "<matplotlib.image.AxesImage at 0x7ff632ad2cc0>"
      ]
     },
     "execution_count": 206,
     "metadata": {},
     "output_type": "execute_result"
    },
    {
     "data": {
      "image/png": "[encoded data removed]",
      "text/plain": [
       "<Figure size 432x288 with 1 Axes>"
      ]
     },
     "metadata": {
      "needs_background": "light"
     },
     "output_type": "display_data"
    }
   ],
   "source": [
    "buttz = anticline_vp\n",
    "\n",
    "test = copy[:,260:]\n",
    "test_2 = copy2[:,320:]\n",
    "test3 = copy3[:,:175]\n",
    "\n",
    "buttz[:,260:] = test\n",
    "buttz[:,320:] = test_2 \n",
    "buttz[:,:175] = test3\n",
    "\n",
    "plt.imshow(buttz)"
   ]
  },
  {
   "cell_type": "code",
   "execution_count": 209,
   "metadata": {},
   "outputs": [
    {
     "data": {
      "text/plain": [
       "<matplotlib.colorbar.Colorbar at 0x7ff63297c6a0>"
      ]
     },
     "execution_count": 209,
     "metadata": {},
     "output_type": "execute_result"
    },
    {
     "data": {
      "image/png": "[encoded data removed]",
      "text/plain": [
       "<Figure size 432x288 with 2 Axes>"
      ]
     },
     "metadata": {
      "needs_background": "light"
     },
     "output_type": "display_data"
    }
   ],
   "source": [
    "anticline_vp_faults_5m = buttz.astype('float64')\n",
    "anticline_vp_faults_5m[:50,:] =-1\n",
    "anticline_vp_faults_5m[anticline_vp_faults_5m == 6] = 2.6\n",
    "anticline_vp_faults_5m[anticline_vp_faults_5m == 2] = 2.6\n",
    "anticline_vp_faults_5m[anticline_vp_faults_5m == 6] = 2.6\n",
    "anticline_vp_faults_5m[anticline_vp_faults_5m == 4] = 2.9\n",
    "anticline_vp_faults_5m[anticline_vp_faults_5m == -1] = 4.\n",
    "\n",
    "plt.imshow(anticline_vp_faults_5m, aspect='equal')\n",
    "plt.colorbar(shrink=0.5)"
   ]
  },
  {
   "cell_type": "code",
   "execution_count": 210,
   "metadata": {},
   "outputs": [],
   "source": [
    "np.save('data/anticline_vp_faults_5m.npy', anticline_vp_faults_5m)\n",
    "np.save('data/anticline_vp_faults_5m.npy', anticline_vp)"
   ]
  },
  {
   "cell_type": "code",
   "execution_count": null,
   "metadata": {},
   "outputs": [],
   "source": []
  }
 ],
 "metadata": {
  "kernelspec": {
   "display_name": "Python 3 (devito)",
   "language": "python",
   "name": "devito"
  },
  "language_info": {
   "codemirror_mode": {
    "name": "ipython",
    "version": 3
   },
   "file_extension": ".py",
   "mimetype": "text/x-python",
   "name": "python",
   "nbconvert_exporter": "python",
   "pygments_lexer": "ipython3",
   "version": "3.6.8"
  }
 },
 "nbformat": 4,
 "nbformat_minor": 2
}
